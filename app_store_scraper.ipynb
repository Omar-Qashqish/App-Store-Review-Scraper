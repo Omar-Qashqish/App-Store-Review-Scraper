{
  "nbformat": 4,
  "nbformat_minor": 0,
  "metadata": {
    "colab": {
      "provenance": []
    },
    "kernelspec": {
      "name": "python3",
      "display_name": "Python 3"
    },
    "language_info": {
      "name": "python"
    }
  },
  "cells": [
    {
      "cell_type": "code",
      "execution_count": 1,
      "metadata": {
        "id": "_HKUg9hVrIgC"
      },
      "outputs": [],
      "source": [
        "# !pip install app-store-web-scraper --quiet"
      ]
    },
    {
      "cell_type": "code",
      "source": [
        "from app_store_web_scraper import AppStoreEntry\n",
        "import pandas as pd\n"
      ],
      "metadata": {
        "id": "ayF0d5yyrNxr"
      },
      "execution_count": 2,
      "outputs": []
    },
    {
      "cell_type": "code",
      "source": [
        "# App configuration\n",
        "\n",
        "app_id = PUT_APP_ID_HERE           # e.g., 1497518128\n",
        "app_name = \"PUT_APP_NAME_HERE\"\n"
      ],
      "metadata": {
        "id": "88Z8nHjl3-dO"
      },
      "execution_count": 12,
      "outputs": []
    },
    {
      "cell_type": "code",
      "source": [
        "# List of countries to fetch reviews from\n",
        "country_codes = ['ae', 'sa', 'us', 'gb', 'eg', 'jo', 'qa', 'kw', 'om', 'bh', 'in', 'de', 'fr']\n"
      ],
      "metadata": {
        "id": "KcT3HBPh3_tS"
      },
      "execution_count": 13,
      "outputs": []
    },
    {
      "cell_type": "code",
      "source": [
        "# Fetch reviews from a single country with error handling\n",
        "def fetch_reviews_from_country(app_id, country_code):\n",
        "    print(f\"🌍 Fetching reviews from: {country_code.upper()}\")\n",
        "\n",
        "    try:\n",
        "        app = AppStoreEntry(app_id=app_id, country=country_code)\n",
        "        reviews = list(app.reviews())\n",
        "    except Exception as e:\n",
        "        print(f\"❌ Failed to fetch from {country_code.upper()}: {e}\")\n",
        "        return pd.DataFrame(columns=['Name', 'Comment', 'Rating', 'Date', 'Country'])\n",
        "\n",
        "    data = []\n",
        "    for review in reviews:\n",
        "        data.append({\n",
        "            'Name': review.user_name,\n",
        "            'Comment': review.content,\n",
        "            'Rating': review.rating,\n",
        "            'Date': review.date.strftime('%Y-%m-%d'),\n",
        "            'Country': country_code\n",
        "        })\n",
        "\n",
        "    return pd.DataFrame(data)\n",
        "\n",
        "# Collect reviews from all countries\n",
        "all_reviews = []\n",
        "for code in country_codes:\n",
        "    df = fetch_reviews_from_country(app_id, code)\n",
        "    if not df.empty:\n",
        "        all_reviews.append(df)\n",
        "\n",
        "df_all = pd.concat(all_reviews, ignore_index=True)\n",
        "print(f\"\\n✅ Total reviews collected: {len(df_all)}\")\n",
        "\n"
      ],
      "metadata": {
        "colab": {
          "base_uri": "https://localhost:8080/"
        },
        "id": "23BWuYig4H9c",
        "outputId": "58449b64-b090-4a6d-fb47-dff328927b3a"
      },
      "execution_count": 16,
      "outputs": [
        {
          "output_type": "stream",
          "name": "stdout",
          "text": [
            "🌍 Fetching reviews from: AE\n",
            "🌍 Fetching reviews from: SA\n",
            "🌍 Fetching reviews from: US\n",
            "🌍 Fetching reviews from: GB\n",
            "🌍 Fetching reviews from: EG\n",
            "🌍 Fetching reviews from: JO\n",
            "🌍 Fetching reviews from: QA\n",
            "🌍 Fetching reviews from: KW\n",
            "🌍 Fetching reviews from: OM\n",
            "🌍 Fetching reviews from: BH\n",
            "🌍 Fetching reviews from: IN\n",
            "🌍 Fetching reviews from: DE\n",
            "🌍 Fetching reviews from: FR\n",
            "\n",
            "✅ Total reviews collected: 2298\n"
          ]
        }
      ]
    },
    {
      "cell_type": "code",
      "source": [
        "df_all"
      ],
      "metadata": {
        "id": "hLoKB7NAv5OJ"
      },
      "execution_count": null,
      "outputs": []
    },
    {
      "cell_type": "code",
      "source": [
        "def count_total_reviews_all_countries(app_id):\n",
        "    total_all = 0\n",
        "    country_counts = {}\n",
        "\n",
        "    for country_code in country_codes:\n",
        "        print(f\"\\n📊 Counting reviews in {country_code.upper()} store...\")\n",
        "        try:\n",
        "            app = AppStoreEntry(app_id=app_id, country=country_code)\n",
        "            reviews = list(app.reviews())\n",
        "            count = len(reviews)\n",
        "            print(f\"✅ {country_code.upper()} store: {count} reviews\")\n",
        "            country_counts[country_code] = count\n",
        "            total_all += count\n",
        "        except Exception as e:\n",
        "            print(f\"❌ Failed for {country_code.upper()}: {e}\")\n",
        "            country_counts[country_code] = 0\n",
        "\n",
        "\n",
        "    print(f\"\\n🎯 Total reviews across all countries: {total_all}\")\n",
        "    return country_counts, total_all\n",
        "\n",
        "count_total_reviews_all_countries(app_id=app_id)\n"
      ],
      "metadata": {
        "colab": {
          "base_uri": "https://localhost:8080/"
        },
        "id": "cUM7URH-9AW2",
        "outputId": "2450ac02-6592-4ae2-d0ac-6ab7727b8b82"
      },
      "execution_count": 15,
      "outputs": [
        {
          "output_type": "stream",
          "name": "stdout",
          "text": [
            "\n",
            "📊 Counting reviews in AE store...\n",
            "✅ AE store: 500 reviews\n",
            "\n",
            "📊 Counting reviews in SA store...\n",
            "✅ SA store: 104 reviews\n",
            "\n",
            "📊 Counting reviews in US store...\n",
            "✅ US store: 500 reviews\n",
            "\n",
            "📊 Counting reviews in GB store...\n",
            "✅ GB store: 428 reviews\n",
            "\n",
            "📊 Counting reviews in EG store...\n",
            "✅ EG store: 89 reviews\n",
            "\n",
            "📊 Counting reviews in JO store...\n",
            "✅ JO store: 12 reviews\n",
            "\n",
            "📊 Counting reviews in QA store...\n",
            "✅ QA store: 12 reviews\n",
            "\n",
            "📊 Counting reviews in KW store...\n",
            "✅ KW store: 13 reviews\n",
            "\n",
            "📊 Counting reviews in OM store...\n",
            "✅ OM store: 10 reviews\n",
            "\n",
            "📊 Counting reviews in BH store...\n",
            "✅ BH store: 5 reviews\n",
            "\n",
            "📊 Counting reviews in IN store...\n",
            "✅ IN store: 500 reviews\n",
            "\n",
            "📊 Counting reviews in DE store...\n",
            "✅ DE store: 59 reviews\n",
            "\n",
            "📊 Counting reviews in FR store...\n",
            "✅ FR store: 66 reviews\n",
            "\n",
            "🎯 Total reviews across all countries: 2298\n"
          ]
        },
        {
          "output_type": "execute_result",
          "data": {
            "text/plain": [
              "({'ae': 500,\n",
              "  'sa': 104,\n",
              "  'us': 500,\n",
              "  'gb': 428,\n",
              "  'eg': 89,\n",
              "  'jo': 12,\n",
              "  'qa': 12,\n",
              "  'kw': 13,\n",
              "  'om': 10,\n",
              "  'bh': 5,\n",
              "  'in': 500,\n",
              "  'de': 59,\n",
              "  'fr': 66},\n",
              " 2298)"
            ]
          },
          "metadata": {},
          "execution_count": 15
        }
      ]
    },
    {
      "cell_type": "code",
      "source": [
        "output_file = f\"{app_name.lower().replace(' ', '_')}_reviews.csv\"\n",
        "df_all.to_csv(output_file, index=False, encoding='utf-8-sig')\n",
        "print(f\"💾 Saved reviews to file: {output_file}\")\n"
      ],
      "metadata": {
        "id": "S3oMr4vrpSdJ"
      },
      "execution_count": null,
      "outputs": []
    },
    {
      "cell_type": "code",
      "source": [],
      "metadata": {
        "id": "7Vi011lC8L5_"
      },
      "execution_count": null,
      "outputs": []
    }
  ]
}